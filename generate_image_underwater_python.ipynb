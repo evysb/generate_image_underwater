{
  "nbformat": 4,
  "nbformat_minor": 0,
  "metadata": {
    "kernelspec": {
      "display_name": "Python [env37]",
      "language": "python",
      "name": "Python [env37]"
    },
    "language_info": {
      "codemirror_mode": {
        "name": "ipython",
        "version": 3
      },
      "file_extension": ".py",
      "mimetype": "text/x-python",
      "name": "python",
      "nbconvert_exporter": "python",
      "pygments_lexer": "ipython3",
      "version": "3.7.11"
    },
    "colab": {
      "name": "generate_image_underwater_python.ipynb",
      "provenance": [],
      "collapsed_sections": [],
      "include_colab_link": true
    }
  },
  "cells": [
    {
      "cell_type": "markdown",
      "metadata": {
        "id": "view-in-github",
        "colab_type": "text"
      },
      "source": [
        "<a href=\"https://colab.research.google.com/github/evysb/generate_image_underwater/blob/main/generate_image_underwater_python.ipynb\" target=\"_parent\"><img src=\"https://colab.research.google.com/assets/colab-badge.svg\" alt=\"Open In Colab\"/></a>"
      ]
    },
    {
      "cell_type": "code",
      "metadata": {
        "collapsed": true,
        "id": "-x3Lr0Ld6S5f"
      },
      "source": [
        "import cv2\n",
        "import os, sys\n",
        "from os.path import join, dirname, splitext\n",
        "import random\n",
        "import numpy as np\n",
        "import operator"
      ],
      "execution_count": null,
      "outputs": []
    },
    {
      "cell_type": "code",
      "metadata": {
        "collapsed": true,
        "id": "OOkRI5oa6S5i"
      },
      "source": [
        "folder1 = r'C:\\Users\\evelyn\\Documents\\DOC\\NYU_GT'\n",
        "save_in = r'C:\\Users\\evelyn\\Documents\\DOC\\results_python'\n",
        "\n",
        "type_I=np.asarray([0.85,0.961,0.982])\n",
        "type_IA=[0.84,0.955,0.975]\n",
        "type_IB=[0.83,0.95,0.968]\n",
        "type_II=[0.80,0.925,0.94]\n",
        "type_III=[0.75,0.885,0.89]\n",
        "type_1=[0.75,0.885,0.875]\n",
        "type_3=[0.71,0.82,0.8]\n",
        "type_5=[0.67,0.73,0.67]\n",
        "type_7=[0.62,0.61,0.5]\n",
        "type_9=[0.55,0.46,0.29]\n",
        "\n",
        "W_TYPE=type_I #%% change the types\n"
      ],
      "execution_count": null,
      "outputs": []
    },
    {
      "cell_type": "code",
      "metadata": {
        "scrolled": true,
        "id": "RO0TB7jO6S5j",
        "outputId": "2e76f083-d2d6-43cb-e7ce-e18f12dfbca0"
      },
      "source": [
        "for i in range(1):\n",
        "    i +=1\n",
        "    print(i)\n",
        "\n",
        "    image0 = cv2.imread(join(folder1, 'REAL_{}.png'.format(i)))\n",
        "    image0 = cv2.cvtColor(image0, cv2.COLOR_BGR2RGB)/255.0\n",
        "    \n",
        "    depth = cv2.imread(join(folder1, 'DEPTH_{}.png'.format(i))) \n",
        "    depth = cv2.cvtColor(depth, cv2.COLOR_RGB2GRAY).astype(np.float32)\n",
        "    depth0 = depth/255.0\n",
        "\n",
        "    Number=10 #% any numbers as you want (a kind of data augmentation)\n",
        "\n",
        "    deep = 5-2*np.random.rand(Number)\n",
        "    horization = 15-14.5*np.random.rand(Number)\n",
        "\n",
        "\n",
        "    for j in range(Number):\n",
        "        A = np.zeros((1, 1, 3))\n",
        "        t = np.zeros((depth0.shape[0], depth0.shape[1], 3))\n",
        "        A[:,:,0]=1.5*np.power(W_TYPE[0],deep[j])\n",
        "        A[:,:,1]=1.5*np.power(W_TYPE[1],deep[j])\n",
        "        A[:,:,2]=1.5*np.power(W_TYPE[2],deep[j])\n",
        "        \n",
        "        t[:,:,0]=np.power(W_TYPE[0],(np.multiply(depth0,horization[j])))\n",
        "        t[:,:,1]=np.power(W_TYPE[1],(np.multiply(depth0,horization[j])))\n",
        "        t[:,:,2]=np.power(W_TYPE[2],(np.multiply(depth0,horization[j])))\n",
        "\n",
        "        #%generate underwater image  \n",
        "        I = np.zeros((depth0.shape[0], depth0.shape[1], 3))\n",
        "        I[:,:,0]= A[:,:,0] *image0[:,:,0]*t[:,:,0] + ((1-t[:,:,0])*A[:,:,0])\n",
        "        I[:,:,1]= A[:,:,1] *image0[:,:,1]*t[:,:,1] + ((1-t[:,:,1])*A[:,:,1])\n",
        "        I[:,:,2]= A[:,:,2] *image0[:,:,2]*t[:,:,2] + ((1-t[:,:,2])*A[:,:,2])\n",
        "        \n",
        "#         I[:,:,0]=(np.multiply(np.multiply(A[:,:,0][0][0], image0[:,:,0]), t[:,:,0])) + ((1-t[:,:,0])*A[:,:,0][0][0])\n",
        "#         I[:,:,1]=(np.multiply(np.multiply(A[:,:,1][0][0], image0[:,:,1]), t[:,:,1])) + ((1-t[:,:,1])*A[:,:,1][0][0])\n",
        "#         I[:,:,2]=(np.multiply(np.multiply(A[:,:,2][0][0], image0[:,:,2]), t[:,:,2])) + ((1-t[:,:,2])*A[:,:,2][0][0])\n",
        "        \n",
        "        \n",
        "        I = cv2.cvtColor(I.astype(np.float32) * 255, cv2.COLOR_RGB2BGR)\n",
        "\n",
        "        #%%if mean(I(:))>0.15 % you can change this parameter when you want to filter out some low instense images. %%\n",
        "        cv2.imwrite(join(save_in, 'transmission_map', 'teste_{}.png'.format(i)), depth)\n",
        "        cv2.imwrite(join(save_in, 'gt', 'teste_{}.png'.format(i)), image0*255.0)\n",
        "        cv2.imwrite(join(save_in, 'underwater_image', '{}_deep_{}_hori_{}_.png'.format(i, deep[j], horization[j])), I)\n",
        " "
      ],
      "execution_count": null,
      "outputs": [
        {
          "name": "stdout",
          "output_type": "stream",
          "text": [
            "1\n"
          ]
        }
      ]
    },
    {
      "cell_type": "code",
      "metadata": {
        "collapsed": true,
        "id": "m6ruAisJ6S5k"
      },
      "source": [
        ""
      ],
      "execution_count": null,
      "outputs": []
    }
  ]
}